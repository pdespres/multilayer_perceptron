{
 "cells": [
  {
   "cell_type": "code",
   "execution_count": 1,
   "metadata": {
    "scrolled": false
   },
   "outputs": [
    {
     "name": "stdout",
     "output_type": "stream",
     "text": [
      "(569, 28) (569,)\n",
      "[[ 0.52103744  0.0226581   0.59375282 ...,  0.91202749  0.59846245\n",
      "   0.41886396]\n",
      " [ 0.64314449  0.27257355  0.28987993 ...,  0.63917526  0.23358959\n",
      "   0.22287813]\n",
      " [ 0.60149557  0.3902604   0.51430893 ...,  0.83505155  0.40370589\n",
      "   0.21343303]\n",
      " ..., \n",
      " [ 0.45525108  0.62123774  0.28816467 ...,  0.48728522  0.12872068\n",
      "   0.1519087 ]\n",
      " [ 0.64456434  0.66351031  0.58833619 ...,  0.91065292  0.49714173\n",
      "   0.45231536]\n",
      " [ 0.03686876  0.50152181  0.         ...,  0.          0.25744136\n",
      "   0.10068215]]\n"
     ]
    }
   ],
   "source": [
    "import sys\n",
    "import csv\n",
    "import os.path\n",
    "import numpy as np\n",
    "\n",
    "def load_data(csvfile):\n",
    "\t#open file / create headers(column name) and data arrays\n",
    "\tif not os.path.isfile(csvfile):\n",
    "\t\texit_error('can\\'t find the file ' + csvfile)\n",
    "\tdata = []\n",
    "\twith open(csvfile) as csv_iterator:\n",
    "\t\tdata_reader = csv.reader(csv_iterator, delimiter=',')\n",
    "\t\tfor row in data_reader:\n",
    "\t\t\tdata.append(row)\n",
    "\tcsv_iterator.close()\n",
    "\tif len(data) < 1:\n",
    "\t\texit_error('file ' + csvfile + ' is empty')\n",
    "\treturn data\n",
    "\n",
    "def f(i):\n",
    "\tif i[1] == 'M':\n",
    "\t\treturn 1\n",
    "\telse:\n",
    "\t\treturn 0\n",
    "\n",
    "dataRaw = np.array(load_data('./data/data.csv'))\n",
    "data = []\n",
    "y = np.array([f(i) for i in dataRaw])\n",
    "dataRaw = np.delete(dataRaw, [0,1,4,5], 1)\n",
    "dataRaw = dataRaw.astype('float')\n",
    "data = np.zeros((dataRaw.shape[1], dataRaw.shape[0]))\n",
    "for index, feature in enumerate(dataRaw.T):\n",
    "\tdata[index] = [(x - min(feature)) / (max(feature) - min(feature)) for x in feature]\n",
    "finalData = data.T\n",
    "print(finalData.shape, y.shape)\n",
    "print(finalData)\n"
   ]
  },
  {
   "cell_type": "code",
   "execution_count": 8,
   "metadata": {},
   "outputs": [
    {
     "name": "stdout",
     "output_type": "stream",
     "text": [
      "0\n",
      "1\n",
      "2\n"
     ]
    }
   ],
   "source": [
    "for i in range(3):\n",
    "    print(i)"
   ]
  }
 ],
 "metadata": {
  "kernelspec": {
   "display_name": "Python [default]",
   "language": "python",
   "name": "python3"
  },
  "language_info": {
   "codemirror_mode": {
    "name": "ipython",
    "version": 3
   },
   "file_extension": ".py",
   "mimetype": "text/x-python",
   "name": "python",
   "nbconvert_exporter": "python",
   "pygments_lexer": "ipython3",
   "version": "3.6.3"
  }
 },
 "nbformat": 4,
 "nbformat_minor": 2
}
