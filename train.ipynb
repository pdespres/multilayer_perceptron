{
 "cells": [
  {
   "cell_type": "code",
   "execution_count": 63,
   "metadata": {
    "scrolled": false
   },
   "outputs": [],
   "source": [
    "import sys\n",
    "import csv\n",
    "import os.path\n",
    "import numpy as np\n",
    "\n",
    "def load_data(csvfile):\n",
    "\t#open file / create headers(column name) and data arrays\n",
    "\tif not os.path.isfile(csvfile):\n",
    "\t\texit_error('can\\'t find the file ' + csvfile)\n",
    "\tdata = []\n",
    "\twith open(csvfile) as csv_iterator:\n",
    "\t\tdata_reader = csv.reader(csv_iterator, delimiter=',')\n",
    "\t\tfor row in data_reader:\n",
    "\t\t\tdata.append(row)\n",
    "\tcsv_iterator.close()\n",
    "\tif len(data) < 1:\n",
    "\t\texit_error('file ' + csvfile + ' is empty')\n",
    "\treturn data\n",
    "\n",
    "def f(i):\n",
    "\tif i[1] == 'M':\n",
    "\t\treturn 1\n",
    "\telse:\n",
    "\t\treturn 0\n",
    "\n",
    "dataRaw = np.array(load_data('./data/data.csv'))\n",
    "data = []\n",
    "y = np.array([f(i) for i in dataRaw])\n",
    "dataRaw = np.delete(dataRaw, [0,1,4,5], 1)\n",
    "dataRaw = dataRaw.astype('float')\n",
    "data = np.zeros((dataRaw.shape[1], dataRaw.shape[0]))\n",
    "for index, feature in enumerate(dataRaw.T):\n",
    "\tdata[index] = [(x - min(feature)) / (max(feature) - min(feature)) for x in feature]\n",
    "x_train = data.T"
   ]
  },
  {
   "cell_type": "code",
   "execution_count": 66,
   "metadata": {
    "scrolled": false
   },
   "outputs": [
    {
     "name": "stdout",
     "output_type": "stream",
     "text": [
      "range(0, 2)\n"
     ]
    }
   ],
   "source": [
    "x_train[range(2)]\n",
    "print(range(2))"
   ]
  }
 ],
 "metadata": {
  "kernelspec": {
   "display_name": "Python [default]",
   "language": "python",
   "name": "python3"
  },
  "language_info": {
   "codemirror_mode": {
    "name": "ipython",
    "version": 3
   },
   "file_extension": ".py",
   "mimetype": "text/x-python",
   "name": "python",
   "nbconvert_exporter": "python",
   "pygments_lexer": "ipython3",
   "version": "3.6.3"
  }
 },
 "nbformat": 4,
 "nbformat_minor": 2
}
